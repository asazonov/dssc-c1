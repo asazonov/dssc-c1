{
 "cells": [
  {
   "cell_type": "code",
   "execution_count": 26,
   "metadata": {
    "collapsed": false
   },
   "outputs": [],
   "source": [
    "import networkx as nx\n",
    "from networkx.readwrite import json_graph\n",
    "import json"
   ]
  },
  {
   "cell_type": "code",
   "execution_count": 27,
   "metadata": {
    "collapsed": true
   },
   "outputs": [],
   "source": [
    "import pandas as pd\n",
    "import http_server"
   ]
  },
  {
   "cell_type": "code",
   "execution_count": 28,
   "metadata": {
    "collapsed": false
   },
   "outputs": [],
   "source": [
    "df = pd.read_csv('correlation-new.csv', index_col='cell')"
   ]
  },
  {
   "cell_type": "code",
   "execution_count": 29,
   "metadata": {
    "collapsed": false
   },
   "outputs": [
    {
     "data": {
      "text/html": [
       "<div>\n",
       "<table border=\"1\" class=\"dataframe\">\n",
       "  <thead>\n",
       "    <tr style=\"text-align: right;\">\n",
       "      <th></th>\n",
       "      <th>Ute_PCP1</th>\n",
       "      <th>Ute_PCP2</th>\n",
       "      <th>Ute_PCP3</th>\n",
       "      <th>Ute_PCP4</th>\n",
       "      <th>Co_PCP_100_Epit</th>\n",
       "      <th>Co_PCP_200_Epit</th>\n",
       "      <th>Co_PCP_2k_FACS_1</th>\n",
       "      <th>Co_PCP_2k_FACS_3</th>\n",
       "      <th>Co_P1_FA_GFP_0</th>\n",
       "      <th>Co_P1_FA_GFP_8</th>\n",
       "      <th>...</th>\n",
       "      <th>Co_P1_Ep_GFP_37</th>\n",
       "      <th>Co_P1_Ep_tdTom_8</th>\n",
       "      <th>Co_P1_Ep_Neg_49</th>\n",
       "      <th>Co_P1_Ep_tdTom_9</th>\n",
       "      <th>Co_P1_Ep_Neg_50</th>\n",
       "      <th>Co_P1_Ep_GFP_39</th>\n",
       "      <th>Co_P1_Ep_Neg_51</th>\n",
       "      <th>Co_P1_Ep_Neg_54</th>\n",
       "      <th>Co_P1_Ep_Neg_52</th>\n",
       "      <th>Co_P1_Ep_GFP_40</th>\n",
       "    </tr>\n",
       "    <tr>\n",
       "      <th>cell</th>\n",
       "      <th></th>\n",
       "      <th></th>\n",
       "      <th></th>\n",
       "      <th></th>\n",
       "      <th></th>\n",
       "      <th></th>\n",
       "      <th></th>\n",
       "      <th></th>\n",
       "      <th></th>\n",
       "      <th></th>\n",
       "      <th></th>\n",
       "      <th></th>\n",
       "      <th></th>\n",
       "      <th></th>\n",
       "      <th></th>\n",
       "      <th></th>\n",
       "      <th></th>\n",
       "      <th></th>\n",
       "      <th></th>\n",
       "      <th></th>\n",
       "      <th></th>\n",
       "    </tr>\n",
       "  </thead>\n",
       "  <tbody>\n",
       "    <tr>\n",
       "      <th>Ute_PCP1</th>\n",
       "      <td>1.000000</td>\n",
       "      <td>0.932962</td>\n",
       "      <td>0.901246</td>\n",
       "      <td>0.908083</td>\n",
       "      <td>0</td>\n",
       "      <td>0.000000</td>\n",
       "      <td>0</td>\n",
       "      <td>0</td>\n",
       "      <td>0</td>\n",
       "      <td>0</td>\n",
       "      <td>...</td>\n",
       "      <td>0</td>\n",
       "      <td>0</td>\n",
       "      <td>0</td>\n",
       "      <td>0</td>\n",
       "      <td>0.000000</td>\n",
       "      <td>0</td>\n",
       "      <td>0</td>\n",
       "      <td>0</td>\n",
       "      <td>0</td>\n",
       "      <td>0</td>\n",
       "    </tr>\n",
       "    <tr>\n",
       "      <th>Ute_PCP2</th>\n",
       "      <td>0.932962</td>\n",
       "      <td>1.000000</td>\n",
       "      <td>0.848825</td>\n",
       "      <td>0.869365</td>\n",
       "      <td>0</td>\n",
       "      <td>0.000000</td>\n",
       "      <td>0</td>\n",
       "      <td>0</td>\n",
       "      <td>0</td>\n",
       "      <td>0</td>\n",
       "      <td>...</td>\n",
       "      <td>0</td>\n",
       "      <td>0</td>\n",
       "      <td>0</td>\n",
       "      <td>0</td>\n",
       "      <td>0.000000</td>\n",
       "      <td>0</td>\n",
       "      <td>0</td>\n",
       "      <td>0</td>\n",
       "      <td>0</td>\n",
       "      <td>0</td>\n",
       "    </tr>\n",
       "    <tr>\n",
       "      <th>Ute_PCP3</th>\n",
       "      <td>0.901246</td>\n",
       "      <td>0.848825</td>\n",
       "      <td>1.000000</td>\n",
       "      <td>0.980836</td>\n",
       "      <td>0</td>\n",
       "      <td>0.000000</td>\n",
       "      <td>0</td>\n",
       "      <td>0</td>\n",
       "      <td>0</td>\n",
       "      <td>0</td>\n",
       "      <td>...</td>\n",
       "      <td>0</td>\n",
       "      <td>0</td>\n",
       "      <td>0</td>\n",
       "      <td>0</td>\n",
       "      <td>0.000000</td>\n",
       "      <td>0</td>\n",
       "      <td>0</td>\n",
       "      <td>0</td>\n",
       "      <td>0</td>\n",
       "      <td>0</td>\n",
       "    </tr>\n",
       "    <tr>\n",
       "      <th>Ute_PCP4</th>\n",
       "      <td>0.908083</td>\n",
       "      <td>0.869365</td>\n",
       "      <td>0.980836</td>\n",
       "      <td>1.000000</td>\n",
       "      <td>0</td>\n",
       "      <td>0.000000</td>\n",
       "      <td>0</td>\n",
       "      <td>0</td>\n",
       "      <td>0</td>\n",
       "      <td>0</td>\n",
       "      <td>...</td>\n",
       "      <td>0</td>\n",
       "      <td>0</td>\n",
       "      <td>0</td>\n",
       "      <td>0</td>\n",
       "      <td>0.000000</td>\n",
       "      <td>0</td>\n",
       "      <td>0</td>\n",
       "      <td>0</td>\n",
       "      <td>0</td>\n",
       "      <td>0</td>\n",
       "    </tr>\n",
       "    <tr>\n",
       "      <th>Co_PCP_100_Epit</th>\n",
       "      <td>0.000000</td>\n",
       "      <td>0.000000</td>\n",
       "      <td>0.000000</td>\n",
       "      <td>0.000000</td>\n",
       "      <td>1</td>\n",
       "      <td>0.889402</td>\n",
       "      <td>0</td>\n",
       "      <td>0</td>\n",
       "      <td>0</td>\n",
       "      <td>0</td>\n",
       "      <td>...</td>\n",
       "      <td>0</td>\n",
       "      <td>0</td>\n",
       "      <td>0</td>\n",
       "      <td>0</td>\n",
       "      <td>0.835871</td>\n",
       "      <td>0</td>\n",
       "      <td>0</td>\n",
       "      <td>0</td>\n",
       "      <td>0</td>\n",
       "      <td>0</td>\n",
       "    </tr>\n",
       "  </tbody>\n",
       "</table>\n",
       "<p>5 rows × 321 columns</p>\n",
       "</div>"
      ],
      "text/plain": [
       "                 Ute_PCP1  Ute_PCP2  Ute_PCP3  Ute_PCP4  Co_PCP_100_Epit  \\\n",
       "cell                                                                       \n",
       "Ute_PCP1         1.000000  0.932962  0.901246  0.908083                0   \n",
       "Ute_PCP2         0.932962  1.000000  0.848825  0.869365                0   \n",
       "Ute_PCP3         0.901246  0.848825  1.000000  0.980836                0   \n",
       "Ute_PCP4         0.908083  0.869365  0.980836  1.000000                0   \n",
       "Co_PCP_100_Epit  0.000000  0.000000  0.000000  0.000000                1   \n",
       "\n",
       "                 Co_PCP_200_Epit  Co_PCP_2k_FACS_1  Co_PCP_2k_FACS_3  \\\n",
       "cell                                                                   \n",
       "Ute_PCP1                0.000000                 0                 0   \n",
       "Ute_PCP2                0.000000                 0                 0   \n",
       "Ute_PCP3                0.000000                 0                 0   \n",
       "Ute_PCP4                0.000000                 0                 0   \n",
       "Co_PCP_100_Epit         0.889402                 0                 0   \n",
       "\n",
       "                 Co_P1_FA_GFP_0  Co_P1_FA_GFP_8       ...         \\\n",
       "cell                                                  ...          \n",
       "Ute_PCP1                      0               0       ...          \n",
       "Ute_PCP2                      0               0       ...          \n",
       "Ute_PCP3                      0               0       ...          \n",
       "Ute_PCP4                      0               0       ...          \n",
       "Co_PCP_100_Epit               0               0       ...          \n",
       "\n",
       "                 Co_P1_Ep_GFP_37  Co_P1_Ep_tdTom_8  Co_P1_Ep_Neg_49  \\\n",
       "cell                                                                  \n",
       "Ute_PCP1                       0                 0                0   \n",
       "Ute_PCP2                       0                 0                0   \n",
       "Ute_PCP3                       0                 0                0   \n",
       "Ute_PCP4                       0                 0                0   \n",
       "Co_PCP_100_Epit                0                 0                0   \n",
       "\n",
       "                 Co_P1_Ep_tdTom_9  Co_P1_Ep_Neg_50  Co_P1_Ep_GFP_39  \\\n",
       "cell                                                                  \n",
       "Ute_PCP1                        0         0.000000                0   \n",
       "Ute_PCP2                        0         0.000000                0   \n",
       "Ute_PCP3                        0         0.000000                0   \n",
       "Ute_PCP4                        0         0.000000                0   \n",
       "Co_PCP_100_Epit                 0         0.835871                0   \n",
       "\n",
       "                 Co_P1_Ep_Neg_51  Co_P1_Ep_Neg_54  Co_P1_Ep_Neg_52  \\\n",
       "cell                                                                 \n",
       "Ute_PCP1                       0                0                0   \n",
       "Ute_PCP2                       0                0                0   \n",
       "Ute_PCP3                       0                0                0   \n",
       "Ute_PCP4                       0                0                0   \n",
       "Co_PCP_100_Epit                0                0                0   \n",
       "\n",
       "                 Co_P1_Ep_GFP_40  \n",
       "cell                              \n",
       "Ute_PCP1                       0  \n",
       "Ute_PCP2                       0  \n",
       "Ute_PCP3                       0  \n",
       "Ute_PCP4                       0  \n",
       "Co_PCP_100_Epit                0  \n",
       "\n",
       "[5 rows x 321 columns]"
      ]
     },
     "execution_count": 29,
     "metadata": {},
     "output_type": "execute_result"
    }
   ],
   "source": [
    "df.head()"
   ]
  },
  {
   "cell_type": "code",
   "execution_count": 30,
   "metadata": {
    "collapsed": false
   },
   "outputs": [
    {
     "name": "stdout",
     "output_type": "stream",
     "text": [
      "Populating the interactive namespace from numpy and matplotlib\n"
     ]
    },
    {
     "name": "stderr",
     "output_type": "stream",
     "text": [
      "WARNING: pylab import has clobbered these variables: ['e']\n",
      "`%matplotlib` prevents importing * from pylab and numpy\n"
     ]
    }
   ],
   "source": [
    "%pylab inline"
   ]
  },
  {
   "cell_type": "code",
   "execution_count": 31,
   "metadata": {
    "collapsed": false
   },
   "outputs": [],
   "source": [
    "a = nx.from_numpy_matrix(df.as_matrix())"
   ]
  },
  {
   "cell_type": "code",
   "execution_count": 32,
   "metadata": {
    "collapsed": false
   },
   "outputs": [
    {
     "data": {
      "text/plain": [
       "{'weight': 0.932961586702739}"
      ]
     },
     "execution_count": 32,
     "metadata": {},
     "output_type": "execute_result"
    }
   ],
   "source": [
    "a.get_edge_data(0,1)"
   ]
  },
  {
   "cell_type": "code",
   "execution_count": 33,
   "metadata": {
    "collapsed": false
   },
   "outputs": [],
   "source": [
    "name_map = {}\n",
    "for i,name in enumerate(df.keys()):\n",
    "    name_map[i] = name"
   ]
  },
  {
   "cell_type": "code",
   "execution_count": 34,
   "metadata": {
    "collapsed": false
   },
   "outputs": [],
   "source": [
    "a = nx.relabel_nodes(a, name_map)"
   ]
  },
  {
   "cell_type": "code",
   "execution_count": 35,
   "metadata": {
    "collapsed": true
   },
   "outputs": [],
   "source": [
    "a.remove_edges_from(a.selfloop_edges())"
   ]
  },
  {
   "cell_type": "code",
   "execution_count": 36,
   "metadata": {
    "collapsed": false
   },
   "outputs": [],
   "source": [
    "remove = [node for node,degree in a.degree().items() if degree == 0]\n",
    "\n",
    "a.remove_nodes_from(remove)\n"
   ]
  },
  {
   "cell_type": "code",
   "execution_count": 37,
   "metadata": {
    "collapsed": false
   },
   "outputs": [
    {
     "data": {
      "image/png": "[encoded data removed]",
      "text/plain": [
       "<matplotlib.figure.Figure at 0x108fc6ba8>"
      ]
     },
     "metadata": {},
     "output_type": "display_data"
    }
   ],
   "source": [
    "nx.draw(a,node_size=3)"
   ]
  },
  {
   "cell_type": "code",
   "execution_count": null,
   "metadata": {
    "collapsed": false
   },
   "outputs": [
    {
     "name": "stdout",
     "output_type": "stream",
     "text": [
      "('Ute_PCP1', 'Ute_PCP3', {'weight': 0.9012458667649591})\n",
      "('Ute_PCP1', 'Ute_PCP2', {'weight': 0.932961586702739})\n",
      "('Ute_PCP1', 'Ute_PCP4', {'weight': 0.9080828330658629})\n",
      "('Co_PCP_100_Epit', 'Co_P1_Ep_Neg_3', {'weight': 0.812989085238836})\n",
      "('Co_PCP_100_Epit', 'Co_P1_Ep_Neg_39', {'weight': 0.803595863881839})\n",
      "('Co_PCP_100_Epit', 'Co_P1_Ep_GFP_38', {'weight': 0.850939345767948})\n",
      "('Co_PCP_100_Epit', 'Co_P1_Ep_GFP_35', {'weight': 0.855400816851529})\n",
      "('Co_PCP_100_Epit', 'Co_P1_Ep_Neg_26', {'weight': 0.8327795201291941})\n",
      "('Co_PCP_100_Epit', 'Co_P1_Ep_GFP_26', {'weight': 0.828062331961389})\n",
      "('Co_PCP_100_Epit', 'Co_P1_Ep_Neg_50', {'weight': 0.835870929014157})\n",
      "('Co_PCP_100_Epit', 'Co_P1_Ep_tdTom_2', {'weight': 0.811658056306718})\n",
      "('Co_PCP_100_Epit', 'Co_PCP_200_Epit', {'weight': 0.8894018676102879})\n",
      "('Co_PCP_100_Epit', 'Co_P1_Ep_Neg_30', {'weight': 0.8355651011238701})\n",
      "('Co_PCP_100_Epit', 'Co_P1_Ep_Neg_48', {'weight': 0.8255516793722599})\n",
      "('Ute_P1_GFP_40', 'Ute_P1_GFP_51', {'weight': 0.836431556391573})\n",
      "('Ute_P1_GFP_40', 'Ute_P1_Neg_16', {'weight': 0.838089191215568})\n",
      "('Ute_P1_GFP_40', 'Ute_P1_GFP_26', {'weight': 0.9202129438285009})\n",
      "('Ute_P1_GFP_40', 'Ute_P1_GFP_50', {'weight': 0.92186377469007})\n",
      "('Ute_P1_GFP_40', 'Ute_PCP3', {'weight': 0.842152249117803})\n",
      "('Ute_P1_GFP_40', 'Ute_PCP4', {'weight': 0.823278205155299})\n",
      "('Ute_P1_GFP_40', 'Ute_P1_Neg_13', {'weight': 0.9551445507194529})\n",
      "('Ute_P1_GFP_40', 'Ute_P1_Neg_34', {'weight': 0.9600625051691899})\n",
      "('Ute_P1_GFP_40', 'Ute_P1_GFP_9', {'weight': 0.9305125002360151})\n",
      "('Ute_P1_GFP_40', 'Ute_P1_GFP_42', {'weight': 0.8885762914015151})\n",
      "('Ute_P1_GFP_40', 'Ute_P1_GFP_37', {'weight': 0.809948370760959})\n",
      "('Ute_P1_GFP_40', 'Ute_P1_Neg_2', {'weight': 0.952372195061503})\n",
      "('Ute_P1_GFP_40', 'Ute_P1_tdTom_46', {'weight': 0.9423622964662389})\n",
      "('Ute_P1_GFP_40', 'Ute_P1_Neg_3', {'weight': 0.908685270263087})\n",
      "('Ute_P1_GFP_40', 'Ute_P1_GFP_45', {'weight': 0.852904707389975})\n",
      "('Ute_P1_GFP_40', 'Ute_P1_GFP_30', {'weight': 0.818552077690905})\n",
      "('Ute_P1_GFP_40', 'Ute_P1_GFP_3', {'weight': 0.884967526126322})\n",
      "('Ute_P1_GFP_40', 'Ute_P1_Neg_30', {'weight': 0.858507366666313})\n",
      "('Ute_P1_GFP_40', 'Ute_P1_GFP_52', {'weight': 0.842442241657677})\n",
      "('Ute_P1_GFP_40', 'Ute_P1_tdTom_62', {'weight': 0.864751044098555})\n",
      "('Ute_P1_Neg_28', 'Ute_P1_Neg_32', {'weight': 0.850896646806428})\n",
      "('Ute_P1_Neg_28', 'Ute_P1_GFP_48', {'weight': 0.8115033393999491})\n",
      "('Ute_P1_Neg_28', 'Ute_P1_GFP_35', {'weight': 0.8098898556055502})\n",
      "('Co_P1_Ep_Neg_19', 'Co_P1_Ep_GFP_10', {'weight': 0.8237108715709759})\n",
      "('Co_P1_Ep_Neg_19', 'Co_P1_Ep_Neg_1', {'weight': 0.831235449251427})\n",
      "('Co_P1_Ep_Neg_19', 'Co_PCP_200_Epit', {'weight': 0.852958306381773})\n",
      "('Ute_P1_GFP_12', 'Ute_PCP3', {'weight': 0.8158596864582459})\n",
      "('Ute_P1_GFP_12', 'Ute_PCP4', {'weight': 0.8148733059926851})\n",
      "('Co_P1_Ep_Neg_18', 'Co_P1_Ep_GFP_10', {'weight': 0.8710647670739691})\n",
      "('Ute_P1_GFP_9', 'Ute_P1_GFP_51', {'weight': 0.81184662745276})\n",
      "('Ute_P1_GFP_9', 'Ute_P1_Neg_16', {'weight': 0.8283831371324121})\n",
      "('Ute_P1_GFP_9', 'Ute_P1_GFP_26', {'weight': 0.912096403493933})\n",
      "('Ute_P1_GFP_9', 'Ute_P1_GFP_50', {'weight': 0.900298793021557})\n",
      "('Ute_P1_GFP_9', 'Ute_PCP3', {'weight': 0.822929380394183})\n",
      "('Ute_P1_GFP_9', 'Ute_P1_Neg_13', {'weight': 0.9356263264022641})\n",
      "('Ute_P1_GFP_9', 'Ute_P1_Neg_34', {'weight': 0.939171897666366})\n",
      "('Ute_P1_GFP_9', 'Ute_PCP4', {'weight': 0.8081988177825451})\n",
      "('Ute_P1_GFP_9', 'Ute_P1_GFP_42', {'weight': 0.8786545992130721})\n",
      "('Ute_P1_GFP_9', 'Ute_P1_GFP_37', {'weight': 0.810232578654077})\n",
      "('Ute_P1_GFP_9', 'Ute_P1_Neg_2', {'weight': 0.9331248860694119})\n",
      "('Ute_P1_GFP_9', 'Ute_P1_tdTom_46', {'weight': 0.918756431297453})\n",
      "('Ute_P1_GFP_9', 'Ute_P1_Neg_3', {'weight': 0.9018980735297529})\n",
      "('Ute_P1_GFP_9', 'Ute_P1_GFP_45', {'weight': 0.8304642153605292})\n",
      "('Ute_P1_GFP_9', 'Ute_P1_tdTom_62', {'weight': 0.840035474258037})\n",
      "('Ute_P1_GFP_9', 'Ute_P1_GFP_3', {'weight': 0.866768398130506})\n",
      "('Ute_P1_GFP_9', 'Ute_P1_Neg_30', {'weight': 0.8484058116849621})\n",
      "('Ute_P1_GFP_9', 'Ute_P1_GFP_52', {'weight': 0.840279081886168})\n",
      "('Ute_P1_GFP_9', 'Ute_P1_GFP_30', {'weight': 0.8039917561951629})\n",
      "('Ute_P1_Neg_2', 'Ute_P1_GFP_26', {'weight': 0.9322818385840871})\n",
      "('Ute_P1_Neg_2', 'Ute_P1_GFP_50', {'weight': 0.93739179043786})\n",
      "('Ute_P1_Neg_2', 'Ute_P1_Neg_13', {'weight': 0.984899334826905})\n",
      "('Ute_P1_Neg_2', 'Ute_PCP4', {'weight': 0.8018858282098629})\n",
      "('Ute_P1_Neg_2', 'Ute_P1_GFP_42', {'weight': 0.8962640161206801})\n",
      "('Ute_P1_Neg_2', 'Ute_P1_GFP_37', {'weight': 0.831192944400197})\n",
      "('Ute_P1_Neg_2', 'Ute_P1_GFP_45', {'weight': 0.850728646305235})\n",
      "('Ute_P1_Neg_2', 'Ute_P1_tdTom_62', {'weight': 0.866234263208063})\n",
      "('Ute_P1_Neg_2', 'Ute_P1_GFP_52', {'weight': 0.8394745186335841})\n",
      "('Ute_P1_Neg_2', 'Ute_P1_GFP_51', {'weight': 0.8343272356430309})\n",
      "('Ute_P1_Neg_2', 'Ute_P1_Neg_16', {'weight': 0.856543247216385})\n",
      "('Ute_P1_Neg_2', 'Ute_PCP3', {'weight': 0.8236759556162729})\n",
      "('Ute_P1_Neg_2', 'Ute_P1_Neg_34', {'weight': 0.987009427683663})\n",
      "('Ute_P1_Neg_2', 'Ute_P1_tdTom_46', {'weight': 0.956250474278508})\n",
      "('Ute_P1_Neg_2', 'Ute_P1_Neg_3', {'weight': 0.925047339456689})\n",
      "('Ute_P1_Neg_2', 'Ute_P1_tdTom_0', {'weight': 0.8002201001199191})\n",
      "('Ute_P1_Neg_2', 'Ute_P1_GFP_30', {'weight': 0.819254885521675})\n",
      "('Ute_P1_Neg_2', 'Ute_P1_GFP_3', {'weight': 0.891751651279749})\n",
      "('Ute_P1_Neg_2', 'Ute_P1_Neg_30', {'weight': 0.8724473969575891})\n",
      "('Ute_P1_tdTom_47', 'Ute_P1_Neg_32', {'weight': 0.8628486667935892})\n",
      "('Ute_P1_tdTom_47', 'Ute_P1_Neg_15', {'weight': 0.873106771728126})\n",
      "('Ute_P1_tdTom_47', 'Ute_P1_Neg_26', {'weight': 0.881566580763572})\n",
      "('Ute_P1_tdTom_47', 'Ute_P1_Neg_10', {'weight': 0.911584130197847})\n",
      "('Ute_P1_tdTom_47', 'Ute_P1_tdTom_60', {'weight': 0.9102919720185709})\n",
      "('Ute_P1_tdTom_47', 'Ute_P1_Neg_27', {'weight': 0.908260562344687})\n",
      "('Ute_P1_tdTom_47', 'Ute_P1_GFP_35', {'weight': 0.8882703863294751})\n",
      "('Ute_P1_GFP_37', 'Ute_P1_tdTom_46', {'weight': 0.811285555691535})\n",
      "('Ute_P1_GFP_37', 'Ute_P1_Neg_13', {'weight': 0.828733265152153})\n",
      "('Ute_P1_GFP_37', 'Ute_P1_Neg_34', {'weight': 0.8261397892449529})\n",
      "('Ute_P1_tdTom_62', 'Ute_P1_GFP_26', {'weight': 0.8363138607887479})\n",
      "('Ute_P1_tdTom_62', 'Ute_P1_GFP_50', {'weight': 0.8395359354910369})\n",
      "('Ute_P1_tdTom_62', 'Ute_PCP3', {'weight': 0.8388737434367})\n",
      "('Ute_P1_tdTom_62', 'Ute_PCP4', {'weight': 0.831134916484955})\n",
      "('Ute_P1_tdTom_62', 'Ute_P1_Neg_13', {'weight': 0.8651355734446199})\n",
      "('Ute_P1_tdTom_62', 'Ute_P1_Neg_34', {'weight': 0.8692975320312092})\n",
      "('Ute_P1_tdTom_62', 'Ute_P1_GFP_42', {'weight': 0.8451351671821559})\n",
      "('Ute_P1_tdTom_62', 'Ute_P1_tdTom_46', {'weight': 0.872080051526676})\n",
      "('Ute_P1_tdTom_62', 'Ute_P1_Neg_3', {'weight': 0.818584981470788})\n"
     ]
    }
   ],
   "source": [
    "for e in a.edges(data=True)[0:100]:\n",
    "    print(e)"
   ]
  },
  {
   "cell_type": "code",
   "execution_count": null,
   "metadata": {
    "collapsed": false,
    "scrolled": true
   },
   "outputs": [
    {
     "name": "stdout",
     "output_type": "stream",
     "text": [
      "Wrote node-link JSON data to force/force.json\n"
     ]
    }
   ],
   "source": [
    "d = json_graph.node_link_data(a) # node-link format to serialize\n",
    "# write json\n",
    "json.dump(d, open('force/force.json','w'))\n",
    "print('Wrote node-link JSON data to force/force.json')\n",
    "# open URL in running web browser\n",
    "http_server.load_url('force/force.html')\n",
    "print('Or copy all files in force/ to webserver and load force/force.html')"
   ]
  },
  {
   "cell_type": "code",
   "execution_count": null,
   "metadata": {
    "collapsed": true
   },
   "outputs": [],
   "source": []
  }
 ],
 "metadata": {
  "kernelspec": {
   "display_name": "Python 3",
   "language": "python",
   "name": "python3"
  },
  "language_info": {
   "codemirror_mode": {
    "name": "ipython",
    "version": 3
   },
   "file_extension": ".py",
   "mimetype": "text/x-python",
   "name": "python",
   "nbconvert_exporter": "python",
   "pygments_lexer": "ipython3",
   "version": "3.5.1"
  }
 },
 "nbformat": 4,
 "nbformat_minor": 0
}
